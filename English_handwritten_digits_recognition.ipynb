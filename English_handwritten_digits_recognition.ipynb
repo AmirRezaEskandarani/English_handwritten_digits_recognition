{
  "nbformat": 4,
  "nbformat_minor": 0,
  "metadata": {
    "colab": {
      "provenance": [],
      "include_colab_link": true
    },
    "kernelspec": {
      "name": "python3",
      "display_name": "Python 3"
    },
    "language_info": {
      "name": "python"
    },
    "accelerator": "GPU",
    "gpuClass": "standard"
  },
  "cells": [
    {
      "cell_type": "markdown",
      "metadata": {
        "id": "view-in-github",
        "colab_type": "text"
      },
      "source": [
        "<a href=\"https://colab.research.google.com/github/AmirRezaEskandarani/English_handwritten_digits_recognition/blob/main/English_handwritten_digits_recognition.ipynb\" target=\"_parent\"><img src=\"https://colab.research.google.com/assets/colab-badge.svg\" alt=\"Open In Colab\"/></a>"
      ]
    },
    {
      "cell_type": "markdown",
      "source": [
        "# Recognize English digits from 0 to 9"
      ],
      "metadata": {
        "id": "eTzCwuzOdc-S"
      }
    },
    {
      "cell_type": "code",
      "source": [
        "import matplotlib.pyplot as plt\n",
        "from tensorflow.keras.datasets import mnist\n",
        "from tensorflow.keras.models import Sequential\n",
        "from tensorflow.keras.layers import Dense\n",
        "from tensorflow.keras.layers import Dropout\n",
        "from tensorflow.keras.layers import Flatten\n",
        "from tensorflow.keras.layers import Conv2D\n",
        "from tensorflow.keras.layers import MaxPooling2D\n",
        "from tensorflow.keras.utils import to_categorical"
      ],
      "metadata": {
        "id": "BW9yhyHIaFKb"
      },
      "execution_count": null,
      "outputs": []
    },
    {
      "cell_type": "markdown",
      "source": [
        "### load data"
      ],
      "metadata": {
        "id": "l_jTMFnBavUe"
      }
    },
    {
      "cell_type": "code",
      "source": [
        "(X_train, y_train), (X_test, y_test) = mnist.load_data()"
      ],
      "metadata": {
        "id": "Ui2IA2hBavX_"
      },
      "execution_count": null,
      "outputs": []
    },
    {
      "cell_type": "markdown",
      "source": [
        "### show some of the images"
      ],
      "metadata": {
        "id": "Cdh_1Hevcx78"
      }
    },
    {
      "cell_type": "code",
      "source": [
        "plt.subplot(221)\n",
        "plt.imshow(X_train[0], cmap=plt.get_cmap('gray'))\n",
        "plt.subplot(222)\n",
        "plt.imshow(X_train[1], cmap=plt.get_cmap('gray'))\n",
        "plt.subplot(223)\n",
        "plt.imshow(X_train[2], cmap=plt.get_cmap('gray'))\n",
        "plt.subplot(224)\n",
        "plt.imshow(X_train[3], cmap=plt.get_cmap('gray'))\n",
        "# show the plot\n",
        "plt.show()"
      ],
      "metadata": {
        "colab": {
          "base_uri": "https://localhost:8080/",
          "height": 268
        },
        "id": "DKVmnZtZc1z8",
        "outputId": "035a5fee-d433-40c0-9c29-12676fc4882e"
      },
      "execution_count": null,
      "outputs": [
        {
          "output_type": "display_data",
          "data": {
            "text/plain": [
              "<Figure size 432x288 with 4 Axes>"
            ],
            "image/png": "[encoded data removed]"
          },
          "metadata": {
            "needs_background": "light"
          }
        }
      ]
    },
    {
      "cell_type": "markdown",
      "source": [
        "### reshape to be [samples][width][height][channels]"
      ],
      "metadata": {
        "id": "Bxi2hrIpavan"
      }
    },
    {
      "cell_type": "code",
      "source": [
        "type(X_train)"
      ],
      "metadata": {
        "colab": {
          "base_uri": "https://localhost:8080/"
        },
        "id": "t9j0pbEC6DJt",
        "outputId": "4cbfe928-032e-4882-af11-3bc9a99c5cdf"
      },
      "execution_count": null,
      "outputs": [
        {
          "output_type": "execute_result",
          "data": {
            "text/plain": [
              "numpy.ndarray"
            ]
          },
          "metadata": {},
          "execution_count": 22
        }
      ]
    },
    {
      "cell_type": "code",
      "source": [
        "X_train.shape"
      ],
      "metadata": {
        "colab": {
          "base_uri": "https://localhost:8080/"
        },
        "id": "uL1naZAf9CTR",
        "outputId": "e4bf520e-d6d1-460d-ec1e-b9244c0ff247"
      },
      "execution_count": null,
      "outputs": [
        {
          "output_type": "execute_result",
          "data": {
            "text/plain": [
              "(60000, 28, 28)"
            ]
          },
          "metadata": {},
          "execution_count": 24
        }
      ]
    },
    {
      "cell_type": "code",
      "source": [
        "X_train = X_train.reshape((X_train.shape[0], 28, 28, 1)).astype('float32')\n",
        "X_test = X_test.reshape((X_test.shape[0], 28, 28, 1)).astype('float32')"
      ],
      "metadata": {
        "id": "dpPExjc7avdY"
      },
      "execution_count": null,
      "outputs": []
    },
    {
      "cell_type": "markdown",
      "source": [
        "### normalize inputs from 0-255 to 0-1\n"
      ],
      "metadata": {
        "id": "ycOhMtoVavgX"
      }
    },
    {
      "cell_type": "code",
      "source": [
        "X_train = X_train / 255\n",
        "X_test = X_test / 255"
      ],
      "metadata": {
        "id": "4Dp4uXfSbs3g"
      },
      "execution_count": null,
      "outputs": []
    },
    {
      "cell_type": "markdown",
      "source": [
        "###  one hot encode outputs and get number fo classes"
      ],
      "metadata": {
        "id": "BHte276Mbs-Y"
      }
    },
    {
      "cell_type": "code",
      "source": [
        "y_train = to_categorical(y_train)\n",
        "y_test = to_categorical(y_test)\n",
        "num_classes = y_test.shape[1]"
      ],
      "metadata": {
        "id": "7DgLSDcJbtBH"
      },
      "execution_count": null,
      "outputs": []
    },
    {
      "cell_type": "markdown",
      "source": [
        "### define and compile the model"
      ],
      "metadata": {
        "id": "JmSa_pk7btDW"
      }
    },
    {
      "cell_type": "code",
      "execution_count": null,
      "metadata": {
        "id": "4wnTrmsMZZtH"
      },
      "outputs": [],
      "source": [
        "def cnn_model():\n",
        "\t# create model\n",
        "\tmodel = Sequential()\n",
        "\tmodel.add(Conv2D(30, (5, 5), input_shape=(28, 28, 1), activation='relu'))\n",
        "\tmodel.add(MaxPooling2D())\n",
        "\tmodel.add(Conv2D(15, (3, 3), activation='relu'))\n",
        "\tmodel.add(MaxPooling2D())\n",
        "\tmodel.add(Dropout(0.2))\n",
        "\tmodel.add(Flatten())\n",
        "\tmodel.add(Dense(128, activation='relu'))\n",
        "\tmodel.add(Dense(64, activation='relu'))\n",
        "\tmodel.add(Dense(num_classes, activation='softmax'))\n",
        "\t# Compile model\n",
        "\tmodel.compile(loss='categorical_crossentropy', optimizer='adam', metrics=['accuracy'])\n",
        "\treturn model\n",
        "# build the model\n",
        "model = cnn_model()"
      ]
    },
    {
      "cell_type": "markdown",
      "source": [
        "### Fit the model\n"
      ],
      "metadata": {
        "id": "JND8OjlqcT-L"
      }
    },
    {
      "cell_type": "code",
      "source": [
        "model.fit(X_train, y_train, validation_data=(X_test, y_test), epochs=10, batch_size=200)"
      ],
      "metadata": {
        "colab": {
          "base_uri": "https://localhost:8080/"
        },
        "id": "3rXXHtekcYHg",
        "outputId": "64e641f4-850e-4023-baab-bb3c4ee36d81"
      },
      "execution_count": null,
      "outputs": [
        {
          "output_type": "stream",
          "name": "stdout",
          "text": [
            "Epoch 1/10\n",
            "300/300 [==============================] - 10s 6ms/step - loss: 0.3695 - accuracy: 0.8895 - val_loss: 0.0878 - val_accuracy: 0.9725\n",
            "Epoch 2/10\n",
            "300/300 [==============================] - 2s 6ms/step - loss: 0.1023 - accuracy: 0.9686 - val_loss: 0.0597 - val_accuracy: 0.9808\n",
            "Epoch 3/10\n",
            "300/300 [==============================] - 2s 6ms/step - loss: 0.0743 - accuracy: 0.9772 - val_loss: 0.0455 - val_accuracy: 0.9850\n",
            "Epoch 4/10\n",
            "300/300 [==============================] - 2s 6ms/step - loss: 0.0582 - accuracy: 0.9822 - val_loss: 0.0364 - val_accuracy: 0.9868\n",
            "Epoch 5/10\n",
            "300/300 [==============================] - 2s 5ms/step - loss: 0.0500 - accuracy: 0.9844 - val_loss: 0.0356 - val_accuracy: 0.9877\n",
            "Epoch 6/10\n",
            "300/300 [==============================] - 2s 6ms/step - loss: 0.0441 - accuracy: 0.9863 - val_loss: 0.0317 - val_accuracy: 0.9883\n",
            "Epoch 7/10\n",
            "300/300 [==============================] - 2s 6ms/step - loss: 0.0389 - accuracy: 0.9871 - val_loss: 0.0312 - val_accuracy: 0.9898\n",
            "Epoch 8/10\n",
            "300/300 [==============================] - 2s 6ms/step - loss: 0.0359 - accuracy: 0.9882 - val_loss: 0.0298 - val_accuracy: 0.9905\n",
            "Epoch 9/10\n",
            "300/300 [==============================] - 2s 6ms/step - loss: 0.0315 - accuracy: 0.9898 - val_loss: 0.0259 - val_accuracy: 0.9905\n",
            "Epoch 10/10\n",
            "300/300 [==============================] - 2s 6ms/step - loss: 0.0291 - accuracy: 0.9905 - val_loss: 0.0257 - val_accuracy: 0.9912\n"
          ]
        },
        {
          "output_type": "execute_result",
          "data": {
            "text/plain": [
              "<keras.callbacks.History at 0x7f7c52573510>"
            ]
          },
          "metadata": {},
          "execution_count": 8
        }
      ]
    },
    {
      "cell_type": "markdown",
      "source": [
        "### calculate loss and accuray of the model"
      ],
      "metadata": {
        "id": "gCPE_Sk1cZWI"
      }
    },
    {
      "cell_type": "code",
      "source": [
        "loss, accuracy = model.evaluate(X_test, y_test, verbose=0)\n",
        "print(f'loss for the model is {loss} \\naccuracy for the model is {accuracy}')"
      ],
      "metadata": {
        "colab": {
          "base_uri": "https://localhost:8080/"
        },
        "id": "tZ1axBA9ZfF0",
        "outputId": "97715cd6-d311-469c-88dd-0139ab2b8892"
      },
      "execution_count": null,
      "outputs": [
        {
          "output_type": "stream",
          "name": "stdout",
          "text": [
            "loss for the model is 0.02571837417781353 \n",
            "accuracy for the model is 0.9911999702453613\n"
          ]
        }
      ]
    },
    {
      "cell_type": "markdown",
      "source": [
        "### plot training and validation accuracy"
      ],
      "metadata": {
        "id": "Rr_QbtsJrcBL"
      }
    },
    {
      "cell_type": "code",
      "source": [
        "acc = history.history['accuracy']\n",
        "val_acc = history.history['val_accuracy']\n",
        "\n",
        "loss = history.history['loss']\n",
        "val_loss = history.history['val_loss']\n",
        "\n",
        "epochs_range = range(10)\n",
        "\n",
        "plt.figure(figsize=(16, 6))\n",
        "plt.subplot(1, 2, 1)\n",
        "plt.plot(epochs_range, acc, label='Training Accuracy')\n",
        "plt.plot(epochs_range, val_acc, label='Validation Accuracy')\n",
        "plt.legend(loc='lower right')\n",
        "plt.title('Training and Validation Accuracy')\n",
        "\n",
        "plt.subplot(1, 2, 2)\n",
        "plt.plot(epochs_range, loss, label='Training Loss')\n",
        "plt.plot(epochs_range, val_loss, label='Validation Loss')\n",
        "plt.legend(loc='upper right')\n",
        "plt.title('Training and Validation Loss')\n",
        "plt.show()"
      ],
      "metadata": {
        "id": "Y1uKXg2MrY-G"
      },
      "execution_count": null,
      "outputs": []
    },
    {
      "cell_type": "markdown",
      "source": [
        "### download sample for the Internet and predict it"
      ],
      "metadata": {
        "id": "i0xutlqucgBU"
      }
    },
    {
      "cell_type": "code",
      "source": [
        "import os\n",
        "import tensorflow as tf\n",
        "import numpy as np\n",
        "\n",
        "image_url = 'https://i.stack.imgur.com/qg0H2.png'\n",
        "                      \n",
        "image_url = tf.keras.utils.get_file('Court', origin=image_url )\n",
        "img = tf.keras.preprocessing.image.load_img(image_url, target_size=(28, 28) )\n",
        "os.remove(image_url) # Remove the cached file\n",
        "img_array = tf.keras.preprocessing.image.img_to_array(img)\n",
        "img_array = img_array / 255.0 \n",
        "img_array = img_array[:,:,0]\n",
        "img_array = img_array.reshape(1, 28, 28 )\n",
        "prediction = model.predict(img_array)\n",
        "\n",
        "print(f'This number probably is {np.argmax(prediction)} .')\n"
      ],
      "metadata": {
        "colab": {
          "base_uri": "https://localhost:8080/"
        },
        "id": "cQbvLuaxZzTD",
        "outputId": "113f4327-1db1-47a8-8e18-1dfe0d23913f"
      },
      "execution_count": null,
      "outputs": [
        {
          "output_type": "stream",
          "name": "stdout",
          "text": [
            "Downloading data from https://i.stack.imgur.com/qg0H2.png\n",
            "1162/1162 [==============================] - 0s 0us/step\n",
            "1/1 [==============================] - 0s 115ms/step\n",
            "This number probably is 8 .\n"
          ]
        }
      ]
    },
    {
      "cell_type": "markdown",
      "source": [],
      "metadata": {
        "id": "XJ9qrClOdaPR"
      }
    },
    {
      "cell_type": "markdown",
      "source": [
        "### show the downloaded image"
      ],
      "metadata": {
        "id": "5KAJeKQBco6_"
      }
    },
    {
      "cell_type": "code",
      "source": [
        "plt.imshow(img, cmap='gray')"
      ],
      "metadata": {
        "colab": {
          "base_uri": "https://localhost:8080/",
          "height": 282
        },
        "id": "3tRVRdFkZ8cp",
        "outputId": "068fbdaa-0088-4f06-ae08-933310a7ebde"
      },
      "execution_count": null,
      "outputs": [
        {
          "output_type": "execute_result",
          "data": {
            "text/plain": [
              "<matplotlib.image.AxesImage at 0x7f7c520f24d0>"
            ]
          },
          "metadata": {},
          "execution_count": 11
        },
        {
          "output_type": "display_data",
          "data": {
            "text/plain": [
              "<Figure size 432x288 with 1 Axes>"
            ],
            "image/png": "[encoded data removed]"
          },
          "metadata": {
            "needs_background": "light"
          }
        }
      ]
    }
  ]
}